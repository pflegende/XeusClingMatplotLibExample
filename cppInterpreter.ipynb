{
 "cells": [
    {
   "cell_type": "code",
   "execution_count": null,
   "metadata": {},
   "outputs": [],
   "source": [
    "// initialy the notebook is ready for executing c++ code \n",
    fprint("This was printed from a c++ source in a jupyter notebook \n");
   ]
  },

  {
   "cell_type": "code",
   "execution_count": null,
   "metadata": {},
   "outputs": [],
   "source": [
    "// setup matplotlib-cpp integration\n",
    "#include \"setup.h\""
   ]
  },
  {
   "cell_type": "code",
   "execution_count": null,
   "metadata": {},
   "outputs": [],
   "source": [
    "// declare variables\n",
    "#define IMAGE_FN \"plot.png\"\n",
    "#define AUDIO_FN \"render.wav\"\n",
    "static constexpr double fs = 44100.;\n",
    "icstdsp::AudioFile audioFile;\n",
    "audioFile.Create(fs, 1, 24);\n",
    "std::vector<double> x,y;"
   ]
  },
  {
   "cell_type": "code",
   "execution_count": null,
   "metadata": {},
   "outputs": [],
   "source": [
    "// do processing\n",
    "for (int i=0; i<fs; i++) {\n",
    "  float output = (float)i/(float)fs;\n",
    "  x.push_back(i);\n",
    "  y.push_back(output);\n",
    "  audioFile.GetSafePt(0)[i] = output;\n",
    "}\n",
    "\n",
    "plt::clf();\n",
    "plt::plot(x, y);\n",
    "plt::save(IMAGE_FN);\n",
    "audioFile.SaveWave(AUDIO_FN);"
   ]
  },
  {
   "cell_type": "code",
   "execution_count": null,
   "metadata": {},
   "outputs": [],
   "source": [
    "// show the image plot\n",
    "im::image image(IMAGE_FN);\n",
    "image"
   ]
  },
  {
   "cell_type": "code",
   "execution_count": null,
   "metadata": {},
   "outputs": [],
   "source": [
    "// show a wav player\n",
    "au::audio audio(AUDIO_FN);\n",
    "audio"
   ]
  },
  {
   "cell_type": "code",
   "execution_count": null,
   "metadata": {},
   "outputs": [],
   "source": []
  }
 ],
 "metadata": {
  "kernelspec": {
   "display_name": "C++14",
   "language": "C++14",
   "name": "xcpp14"
  },
  "language_info": {
   "codemirror_mode": "text/x-c++src",
   "file_extension": ".cpp",
   "mimetype": "text/x-c++src",
   "name": "c++",
   "version": "14"
  }
 },
 "nbformat": 4,
 "nbformat_minor": 2
}
